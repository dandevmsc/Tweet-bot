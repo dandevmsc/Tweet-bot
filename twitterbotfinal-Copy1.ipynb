{
 "cells": [
  {
   "cell_type": "code",
   "execution_count": null,
   "metadata": {},
   "outputs": [],
   "source": [
    "import tweepy\n",
    "import re\n",
    "import random\n",
    "import datetime\n",
    "count=1\n",
    "import time\n",
    "import schedule\n",
    "\n",
    "user=''\n",
    "consumer_key=\"\"\n",
    "consumer_secret=\"\"\n",
    "access_token=\"\"\n",
    "access_secret=\"\"\n",
    "\n",
    "auth = tweepy.OAuthHandler(consumer_key, consumer_secret) \n",
    "auth.set_access_token(access_token, access_secret)\n",
    " #Construct the API instance\n",
    "api = tweepy.API(auth) # create an API object\n",
    "\n",
    "listoftext=['','','', '']\n",
    "\n",
    "def tweetbot():\n",
    "    for status in tweepy.Cursor(api.user_timeline,id=user).items(count): \n",
    "        text=status.text+'\\n'\n",
    "        timtweet=status.created_at\n",
    "        whototweet=[word for word in text.split() if word.startswith('@')]\n",
    "    f = open('.txt', 'r')\n",
    "    x=[]\n",
    "    for line in f:\n",
    "        g=line.split()\n",
    "        y=' '.join(g)\n",
    "        x.append(y)\n",
    "    if  timtweet+datetime.timedelta(minutes = 1)>=datetime.datetime.now() <= timtweet+datetime.timedelta(minutes = 61):\n",
    "        tweet=whototweet[0]+' '+ \" \".join(random.sample(x,3))+ \" \".join(random.sample(listoftext,1))\n",
    "        tweet1=whototweet[0]+' '+ \" \".join(random.sample(x,3))+ \" \".join(random.sample(listoftext,1))\n",
    "        tweet2=whototweet[0]+' '+ \" \".join(random.sample(x,3))+ \" \".join(random.sample(listoftext,1))\n",
    "        print(tweet1)\n",
    "        print(tweet2)\n",
    "        print(tweet)\n",
    "        api.update_status(status=tweet1)\n",
    "        api.update_status(status=tweet)\n",
    "        api.update_status(status=tweet2)\n",
    "\n",
    "\n",
    "schedule.every().hour.do(tweetbot)\n"
   ]
  },
  {
   "cell_type": "code",
   "execution_count": null,
   "metadata": {},
   "outputs": [],
   "source": []
  },
  {
   "cell_type": "code",
   "execution_count": null,
   "metadata": {},
   "outputs": [],
   "source": []
  }
 ],
 "metadata": {
  "kernelspec": {
   "display_name": "Python 3",
   "language": "python",
   "name": "python3"
  },
  "language_info": {
   "codemirror_mode": {
    "name": "ipython",
    "version": 3
   },
   "file_extension": ".py",
   "mimetype": "text/x-python",
   "name": "python",
   "nbconvert_exporter": "python",
   "pygments_lexer": "ipython3",
   "version": "3.6.4"
  }
 },
 "nbformat": 4,
 "nbformat_minor": 2
}
